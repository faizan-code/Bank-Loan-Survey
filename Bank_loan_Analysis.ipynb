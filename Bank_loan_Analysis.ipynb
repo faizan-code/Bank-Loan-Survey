{
 "cells": [
  {
   "cell_type": "markdown",
   "metadata": {},
   "source": [
    "<center><h1><b><u><font color = \"Black\">EnR Consultancy Services</font></h1></b></u></center>\n",
    "<br>\n",
    "<br>\n",
    "\n",
    "\n",
    "### BY - FAIZAN ASHRAF\n",
    "### gmail - go2faizanashraf@gmail.com"
   ]
  },
  {
   "cell_type": "markdown",
   "metadata": {},
   "source": [
    "# Bank loan approval analysis\n",
    "\n",
    "<br>\n",
    "<br>\n",
    "<br>\n",
    "<br>\n",
    "\n",
    "\n",
    "\n",
    "\n",
    "\n",
    "This is a classification problem where we have to predict whether a loan will be approved or not. Specifically, it is a binary classification problem where we have to predict either one of the two classes given i.e. approved (Y) or not approved (N). \n"
   ]
  },
  {
   "cell_type": "code",
   "execution_count": 3,
   "metadata": {},
   "outputs": [],
   "source": [
    "import itertools\n",
    "import numpy as np\n",
    "import matplotlib.pyplot as plt\n",
    "from matplotlib.ticker import NullFormatter\n",
    "import pandas as pd\n",
    "import seaborn as sns\n",
    "import numpy as np\n",
    "import matplotlib.ticker as ticker\n",
    "from sklearn import preprocessing\n",
    "%matplotlib inline"
   ]
  },
  {
   "cell_type": "code",
   "execution_count": 4,
   "metadata": {},
   "outputs": [],
   "source": [
    "df = pd.read_excel(\"data123.xlsx\")"
   ]
  },
  {
   "cell_type": "code",
   "execution_count": 5,
   "metadata": {},
   "outputs": [
    {
     "data": {
      "text/html": [
       "<div>\n",
       "<style scoped>\n",
       "    .dataframe tbody tr th:only-of-type {\n",
       "        vertical-align: middle;\n",
       "    }\n",
       "\n",
       "    .dataframe tbody tr th {\n",
       "        vertical-align: top;\n",
       "    }\n",
       "\n",
       "    .dataframe thead th {\n",
       "        text-align: right;\n",
       "    }\n",
       "</style>\n",
       "<table border=\"1\" class=\"dataframe\">\n",
       "  <thead>\n",
       "    <tr style=\"text-align: right;\">\n",
       "      <th></th>\n",
       "      <th>ID</th>\n",
       "      <th>Branch Code</th>\n",
       "      <th>Application In-take Date</th>\n",
       "      <th>Application Input Date</th>\n",
       "      <th>Applied Loan Amount</th>\n",
       "      <th>Applied Loan Tenor</th>\n",
       "      <th>Loan Purpose</th>\n",
       "      <th>Title</th>\n",
       "      <th>Gender</th>\n",
       "      <th>Age</th>\n",
       "      <th>...</th>\n",
       "      <th>Employment Type</th>\n",
       "      <th>Nature of Business</th>\n",
       "      <th>Job Position</th>\n",
       "      <th>Monthly Income</th>\n",
       "      <th>Office (Area)</th>\n",
       "      <th>Date (Full Doc)</th>\n",
       "      <th>Date (Pending Doc)</th>\n",
       "      <th>Date (Pending Approval)</th>\n",
       "      <th>Final_Status</th>\n",
       "      <th>Indicators</th>\n",
       "    </tr>\n",
       "  </thead>\n",
       "  <tbody>\n",
       "    <tr>\n",
       "      <th>0</th>\n",
       "      <td>1</td>\n",
       "      <td>570</td>\n",
       "      <td>2012-04-11</td>\n",
       "      <td>2012-04-11 11:47:10</td>\n",
       "      <td>60000</td>\n",
       "      <td>24</td>\n",
       "      <td>Car Purchase</td>\n",
       "      <td>MR</td>\n",
       "      <td>M</td>\n",
       "      <td>22.301</td>\n",
       "      <td>...</td>\n",
       "      <td>Fixed Income Earner</td>\n",
       "      <td>Sales</td>\n",
       "      <td>Private</td>\n",
       "      <td>10245.0</td>\n",
       "      <td>2.0</td>\n",
       "      <td>NaT</td>\n",
       "      <td>NaT</td>\n",
       "      <td>NaT</td>\n",
       "      <td>Rejected</td>\n",
       "      <td>0</td>\n",
       "    </tr>\n",
       "    <tr>\n",
       "      <th>1</th>\n",
       "      <td>2</td>\n",
       "      <td>566</td>\n",
       "      <td>2012-04-11</td>\n",
       "      <td>2012-04-12 15:26:39</td>\n",
       "      <td>100000</td>\n",
       "      <td>60</td>\n",
       "      <td>Settle Loan / Credit Card O/S</td>\n",
       "      <td>MR</td>\n",
       "      <td>M</td>\n",
       "      <td>33.159</td>\n",
       "      <td>...</td>\n",
       "      <td>Fixed Income Earner</td>\n",
       "      <td>Services</td>\n",
       "      <td>Private</td>\n",
       "      <td>10000.0</td>\n",
       "      <td>1.0</td>\n",
       "      <td>NaT</td>\n",
       "      <td>NaT</td>\n",
       "      <td>NaT</td>\n",
       "      <td>Rejected</td>\n",
       "      <td>0</td>\n",
       "    </tr>\n",
       "    <tr>\n",
       "      <th>2</th>\n",
       "      <td>3</td>\n",
       "      <td>546</td>\n",
       "      <td>2012-04-12</td>\n",
       "      <td>2012-04-13 09:16:07</td>\n",
       "      <td>50000</td>\n",
       "      <td>24</td>\n",
       "      <td>Personal use</td>\n",
       "      <td>MS</td>\n",
       "      <td>F</td>\n",
       "      <td>28.389</td>\n",
       "      <td>...</td>\n",
       "      <td>Fixed Income Earner</td>\n",
       "      <td>Services</td>\n",
       "      <td>Private</td>\n",
       "      <td>9700.0</td>\n",
       "      <td>3.0</td>\n",
       "      <td>NaT</td>\n",
       "      <td>NaT</td>\n",
       "      <td>NaT</td>\n",
       "      <td>Rejected</td>\n",
       "      <td>0</td>\n",
       "    </tr>\n",
       "    <tr>\n",
       "      <th>3</th>\n",
       "      <td>4</td>\n",
       "      <td>548</td>\n",
       "      <td>2012-04-12</td>\n",
       "      <td>2012-04-13 00:00:00</td>\n",
       "      <td>70000</td>\n",
       "      <td>36</td>\n",
       "      <td>Personal use</td>\n",
       "      <td>MR</td>\n",
       "      <td>M</td>\n",
       "      <td>35.573</td>\n",
       "      <td>...</td>\n",
       "      <td>Civil Servant</td>\n",
       "      <td>Manager</td>\n",
       "      <td>Government/Semi-Government</td>\n",
       "      <td>23000.0</td>\n",
       "      <td>2.0</td>\n",
       "      <td>2012-04-13 10:09:10</td>\n",
       "      <td>2012-04-13 09:41:43</td>\n",
       "      <td>2012-04-16 14:47:16</td>\n",
       "      <td>Rejected</td>\n",
       "      <td>0</td>\n",
       "    </tr>\n",
       "    <tr>\n",
       "      <th>4</th>\n",
       "      <td>5</td>\n",
       "      <td>539</td>\n",
       "      <td>2012-04-13</td>\n",
       "      <td>2012-04-16 00:00:00</td>\n",
       "      <td>300000</td>\n",
       "      <td>60</td>\n",
       "      <td>Settle Loan / Credit Card O/S</td>\n",
       "      <td>MS</td>\n",
       "      <td>F</td>\n",
       "      <td>30.849</td>\n",
       "      <td>...</td>\n",
       "      <td>Fixed Income Earner</td>\n",
       "      <td>Manager</td>\n",
       "      <td>Private</td>\n",
       "      <td>34000.0</td>\n",
       "      <td>1.0</td>\n",
       "      <td>2012-04-16 15:12:31</td>\n",
       "      <td>2012-04-16 09:46:45</td>\n",
       "      <td>2012-04-16 15:14:36</td>\n",
       "      <td>Rejected</td>\n",
       "      <td>0</td>\n",
       "    </tr>\n",
       "  </tbody>\n",
       "</table>\n",
       "<p>5 rows × 26 columns</p>\n",
       "</div>"
      ],
      "text/plain": [
       "   ID  Branch Code Application In-take Date Application Input Date  \\\n",
       "0   1          570               2012-04-11    2012-04-11 11:47:10   \n",
       "1   2          566               2012-04-11    2012-04-12 15:26:39   \n",
       "2   3          546               2012-04-12    2012-04-13 09:16:07   \n",
       "3   4          548               2012-04-12    2012-04-13 00:00:00   \n",
       "4   5          539               2012-04-13    2012-04-16 00:00:00   \n",
       "\n",
       "   Applied Loan Amount  Applied Loan Tenor                   Loan Purpose  \\\n",
       "0                60000                  24                   Car Purchase   \n",
       "1               100000                  60  Settle Loan / Credit Card O/S   \n",
       "2                50000                  24                   Personal use   \n",
       "3                70000                  36                   Personal use   \n",
       "4               300000                  60  Settle Loan / Credit Card O/S   \n",
       "\n",
       "  Title Gender     Age  ...      Employment Type Nature of Business  \\\n",
       "0    MR      M  22.301  ...  Fixed Income Earner              Sales   \n",
       "1    MR      M  33.159  ...  Fixed Income Earner           Services   \n",
       "2    MS      F  28.389  ...  Fixed Income Earner           Services   \n",
       "3    MR      M  35.573  ...        Civil Servant            Manager   \n",
       "4    MS      F  30.849  ...  Fixed Income Earner            Manager   \n",
       "\n",
       "                 Job Position  Monthly Income Office (Area)  \\\n",
       "0                     Private         10245.0           2.0   \n",
       "1                     Private         10000.0           1.0   \n",
       "2                     Private          9700.0           3.0   \n",
       "3  Government/Semi-Government         23000.0           2.0   \n",
       "4                     Private         34000.0           1.0   \n",
       "\n",
       "      Date (Full Doc)  Date (Pending Doc) Date (Pending Approval)  \\\n",
       "0                 NaT                 NaT                     NaT   \n",
       "1                 NaT                 NaT                     NaT   \n",
       "2                 NaT                 NaT                     NaT   \n",
       "3 2012-04-13 10:09:10 2012-04-13 09:41:43     2012-04-16 14:47:16   \n",
       "4 2012-04-16 15:12:31 2012-04-16 09:46:45     2012-04-16 15:14:36   \n",
       "\n",
       "  Final_Status  Indicators  \n",
       "0     Rejected           0  \n",
       "1     Rejected           0  \n",
       "2     Rejected           0  \n",
       "3     Rejected           0  \n",
       "4     Rejected           0  \n",
       "\n",
       "[5 rows x 26 columns]"
      ]
     },
     "execution_count": 5,
     "metadata": {},
     "output_type": "execute_result"
    }
   ],
   "source": [
    "# Lets see the dataset\n",
    "\n",
    "df.head()"
   ]
  },
  {
   "cell_type": "code",
   "execution_count": 6,
   "metadata": {},
   "outputs": [
    {
     "name": "stdout",
     "output_type": "stream",
     "text": [
      "<class 'pandas.core.frame.DataFrame'>\n",
      "RangeIndex: 11669 entries, 0 to 11668\n",
      "Data columns (total 26 columns):\n",
      " #   Column                    Non-Null Count  Dtype         \n",
      "---  ------                    --------------  -----         \n",
      " 0   ID                        11669 non-null  int64         \n",
      " 1   Branch Code               11669 non-null  int64         \n",
      " 2   Application In-take Date  11669 non-null  datetime64[ns]\n",
      " 3   Application Input Date    11669 non-null  datetime64[ns]\n",
      " 4   Applied Loan Amount       11669 non-null  int64         \n",
      " 5   Applied Loan Tenor        11669 non-null  int64         \n",
      " 6   Loan Purpose              11661 non-null  object        \n",
      " 7   Title                     11669 non-null  object        \n",
      " 8   Gender                    11669 non-null  object        \n",
      " 9   Age                       11669 non-null  float64       \n",
      " 10  Marital Status            11669 non-null  object        \n",
      " 11  Education Level           11669 non-null  object        \n",
      " 12  Residential Status        11669 non-null  object        \n",
      " 13  Monthly Housing/Rental    11669 non-null  float64       \n",
      " 14  Contract Staff (Y/N)      11669 non-null  object        \n",
      " 15  Contract End Date         214 non-null    float64       \n",
      " 16  Employment Type           11669 non-null  object        \n",
      " 17  Nature of Business        11669 non-null  object        \n",
      " 18  Job Position              11669 non-null  object        \n",
      " 19  Monthly Income            11669 non-null  float64       \n",
      " 20  Office (Area)             11667 non-null  float64       \n",
      " 21  Date (Full Doc)           10803 non-null  datetime64[ns]\n",
      " 22  Date (Pending Doc)        10803 non-null  datetime64[ns]\n",
      " 23  Date (Pending Approval)   10803 non-null  datetime64[ns]\n",
      " 24  Final_Status              11669 non-null  object        \n",
      " 25  Indicators                11669 non-null  int64         \n",
      "dtypes: datetime64[ns](5), float64(5), int64(5), object(11)\n",
      "memory usage: 2.3+ MB\n"
     ]
    }
   ],
   "source": [
    "df.info()"
   ]
  },
  {
   "cell_type": "code",
   "execution_count": 7,
   "metadata": {},
   "outputs": [
    {
     "data": {
      "text/html": [
       "<div>\n",
       "<style scoped>\n",
       "    .dataframe tbody tr th:only-of-type {\n",
       "        vertical-align: middle;\n",
       "    }\n",
       "\n",
       "    .dataframe tbody tr th {\n",
       "        vertical-align: top;\n",
       "    }\n",
       "\n",
       "    .dataframe thead th {\n",
       "        text-align: right;\n",
       "    }\n",
       "</style>\n",
       "<table border=\"1\" class=\"dataframe\">\n",
       "  <thead>\n",
       "    <tr style=\"text-align: right;\">\n",
       "      <th></th>\n",
       "      <th>ID</th>\n",
       "      <th>Branch Code</th>\n",
       "      <th>Applied Loan Amount</th>\n",
       "      <th>Applied Loan Tenor</th>\n",
       "      <th>Age</th>\n",
       "      <th>Monthly Housing/Rental</th>\n",
       "      <th>Contract End Date</th>\n",
       "      <th>Monthly Income</th>\n",
       "      <th>Office (Area)</th>\n",
       "      <th>Indicators</th>\n",
       "    </tr>\n",
       "  </thead>\n",
       "  <tbody>\n",
       "    <tr>\n",
       "      <th>count</th>\n",
       "      <td>11669.00000</td>\n",
       "      <td>11669.000000</td>\n",
       "      <td>1.166900e+04</td>\n",
       "      <td>11669.000000</td>\n",
       "      <td>11669.000000</td>\n",
       "      <td>11669.000000</td>\n",
       "      <td>214.000000</td>\n",
       "      <td>1.166900e+04</td>\n",
       "      <td>11667.000000</td>\n",
       "      <td>11669.000000</td>\n",
       "    </tr>\n",
       "    <tr>\n",
       "      <th>mean</th>\n",
       "      <td>5835.00000</td>\n",
       "      <td>704.981832</td>\n",
       "      <td>2.488212e+05</td>\n",
       "      <td>30.191276</td>\n",
       "      <td>42.850267</td>\n",
       "      <td>3943.206255</td>\n",
       "      <td>42460.827103</td>\n",
       "      <td>4.699033e+04</td>\n",
       "      <td>1.932802</td>\n",
       "      <td>0.461993</td>\n",
       "    </tr>\n",
       "    <tr>\n",
       "      <th>std</th>\n",
       "      <td>3368.69448</td>\n",
       "      <td>162.876296</td>\n",
       "      <td>4.497168e+05</td>\n",
       "      <td>19.146560</td>\n",
       "      <td>10.500179</td>\n",
       "      <td>9443.975859</td>\n",
       "      <td>1024.975865</td>\n",
       "      <td>1.081102e+05</td>\n",
       "      <td>0.854357</td>\n",
       "      <td>0.498575</td>\n",
       "    </tr>\n",
       "    <tr>\n",
       "      <th>min</th>\n",
       "      <td>1.00000</td>\n",
       "      <td>533.000000</td>\n",
       "      <td>1.000000e+04</td>\n",
       "      <td>6.000000</td>\n",
       "      <td>18.052000</td>\n",
       "      <td>0.000000</td>\n",
       "      <td>41152.000000</td>\n",
       "      <td>0.000000e+00</td>\n",
       "      <td>1.000000</td>\n",
       "      <td>0.000000</td>\n",
       "    </tr>\n",
       "    <tr>\n",
       "      <th>25%</th>\n",
       "      <td>2918.00000</td>\n",
       "      <td>551.000000</td>\n",
       "      <td>6.000000e+04</td>\n",
       "      <td>12.000000</td>\n",
       "      <td>34.942000</td>\n",
       "      <td>0.000000</td>\n",
       "      <td>41958.000000</td>\n",
       "      <td>1.500000e+04</td>\n",
       "      <td>1.000000</td>\n",
       "      <td>0.000000</td>\n",
       "    </tr>\n",
       "    <tr>\n",
       "      <th>50%</th>\n",
       "      <td>5835.00000</td>\n",
       "      <td>576.000000</td>\n",
       "      <td>1.200000e+05</td>\n",
       "      <td>24.000000</td>\n",
       "      <td>43.129000</td>\n",
       "      <td>0.000000</td>\n",
       "      <td>42307.500000</td>\n",
       "      <td>2.500000e+04</td>\n",
       "      <td>2.000000</td>\n",
       "      <td>0.000000</td>\n",
       "    </tr>\n",
       "    <tr>\n",
       "      <th>75%</th>\n",
       "      <td>8752.00000</td>\n",
       "      <td>883.000000</td>\n",
       "      <td>2.730000e+05</td>\n",
       "      <td>48.000000</td>\n",
       "      <td>50.830000</td>\n",
       "      <td>4500.000000</td>\n",
       "      <td>42699.500000</td>\n",
       "      <td>4.800000e+04</td>\n",
       "      <td>3.000000</td>\n",
       "      <td>1.000000</td>\n",
       "    </tr>\n",
       "    <tr>\n",
       "      <th>max</th>\n",
       "      <td>11669.00000</td>\n",
       "      <td>883.000000</td>\n",
       "      <td>1.200000e+07</td>\n",
       "      <td>72.000000</td>\n",
       "      <td>82.436000</td>\n",
       "      <td>355940.000000</td>\n",
       "      <td>52022.000000</td>\n",
       "      <td>3.490722e+06</td>\n",
       "      <td>6.000000</td>\n",
       "      <td>1.000000</td>\n",
       "    </tr>\n",
       "  </tbody>\n",
       "</table>\n",
       "</div>"
      ],
      "text/plain": [
       "                ID   Branch Code  Applied Loan Amount  Applied Loan Tenor  \\\n",
       "count  11669.00000  11669.000000         1.166900e+04        11669.000000   \n",
       "mean    5835.00000    704.981832         2.488212e+05           30.191276   \n",
       "std     3368.69448    162.876296         4.497168e+05           19.146560   \n",
       "min        1.00000    533.000000         1.000000e+04            6.000000   \n",
       "25%     2918.00000    551.000000         6.000000e+04           12.000000   \n",
       "50%     5835.00000    576.000000         1.200000e+05           24.000000   \n",
       "75%     8752.00000    883.000000         2.730000e+05           48.000000   \n",
       "max    11669.00000    883.000000         1.200000e+07           72.000000   \n",
       "\n",
       "                Age  Monthly Housing/Rental  Contract End Date  \\\n",
       "count  11669.000000            11669.000000         214.000000   \n",
       "mean      42.850267             3943.206255       42460.827103   \n",
       "std       10.500179             9443.975859        1024.975865   \n",
       "min       18.052000                0.000000       41152.000000   \n",
       "25%       34.942000                0.000000       41958.000000   \n",
       "50%       43.129000                0.000000       42307.500000   \n",
       "75%       50.830000             4500.000000       42699.500000   \n",
       "max       82.436000           355940.000000       52022.000000   \n",
       "\n",
       "       Monthly Income  Office (Area)    Indicators  \n",
       "count    1.166900e+04   11667.000000  11669.000000  \n",
       "mean     4.699033e+04       1.932802      0.461993  \n",
       "std      1.081102e+05       0.854357      0.498575  \n",
       "min      0.000000e+00       1.000000      0.000000  \n",
       "25%      1.500000e+04       1.000000      0.000000  \n",
       "50%      2.500000e+04       2.000000      0.000000  \n",
       "75%      4.800000e+04       3.000000      1.000000  \n",
       "max      3.490722e+06       6.000000      1.000000  "
      ]
     },
     "execution_count": 7,
     "metadata": {},
     "output_type": "execute_result"
    }
   ],
   "source": [
    "df.describe()"
   ]
  },
  {
   "cell_type": "code",
   "execution_count": 8,
   "metadata": {},
   "outputs": [
    {
     "data": {
      "text/html": [
       "<div>\n",
       "<style scoped>\n",
       "    .dataframe tbody tr th:only-of-type {\n",
       "        vertical-align: middle;\n",
       "    }\n",
       "\n",
       "    .dataframe tbody tr th {\n",
       "        vertical-align: top;\n",
       "    }\n",
       "\n",
       "    .dataframe thead th {\n",
       "        text-align: right;\n",
       "    }\n",
       "</style>\n",
       "<table border=\"1\" class=\"dataframe\">\n",
       "  <thead>\n",
       "    <tr style=\"text-align: right;\">\n",
       "      <th></th>\n",
       "      <th>ID</th>\n",
       "      <th>Branch Code</th>\n",
       "      <th>Applied Loan Amount</th>\n",
       "      <th>Applied Loan Tenor</th>\n",
       "      <th>Age</th>\n",
       "      <th>Monthly Housing/Rental</th>\n",
       "      <th>Contract End Date</th>\n",
       "      <th>Monthly Income</th>\n",
       "      <th>Office (Area)</th>\n",
       "      <th>Indicators</th>\n",
       "    </tr>\n",
       "  </thead>\n",
       "  <tbody>\n",
       "    <tr>\n",
       "      <th>ID</th>\n",
       "      <td>1.000000</td>\n",
       "      <td>-0.114155</td>\n",
       "      <td>0.078838</td>\n",
       "      <td>-0.099940</td>\n",
       "      <td>0.016499</td>\n",
       "      <td>0.058990</td>\n",
       "      <td>0.096560</td>\n",
       "      <td>0.057044</td>\n",
       "      <td>-0.023931</td>\n",
       "      <td>0.411229</td>\n",
       "    </tr>\n",
       "    <tr>\n",
       "      <th>Branch Code</th>\n",
       "      <td>-0.114155</td>\n",
       "      <td>1.000000</td>\n",
       "      <td>-0.093034</td>\n",
       "      <td>0.165514</td>\n",
       "      <td>-0.184727</td>\n",
       "      <td>-0.048313</td>\n",
       "      <td>0.050559</td>\n",
       "      <td>-0.071185</td>\n",
       "      <td>-0.039241</td>\n",
       "      <td>-0.219492</td>\n",
       "    </tr>\n",
       "    <tr>\n",
       "      <th>Applied Loan Amount</th>\n",
       "      <td>0.078838</td>\n",
       "      <td>-0.093034</td>\n",
       "      <td>1.000000</td>\n",
       "      <td>0.084397</td>\n",
       "      <td>0.071825</td>\n",
       "      <td>0.319958</td>\n",
       "      <td>0.055936</td>\n",
       "      <td>0.599442</td>\n",
       "      <td>-0.058561</td>\n",
       "      <td>0.139295</td>\n",
       "    </tr>\n",
       "    <tr>\n",
       "      <th>Applied Loan Tenor</th>\n",
       "      <td>-0.099940</td>\n",
       "      <td>0.165514</td>\n",
       "      <td>0.084397</td>\n",
       "      <td>1.000000</td>\n",
       "      <td>-0.180895</td>\n",
       "      <td>-0.068857</td>\n",
       "      <td>0.005849</td>\n",
       "      <td>-0.059903</td>\n",
       "      <td>0.056034</td>\n",
       "      <td>-0.319432</td>\n",
       "    </tr>\n",
       "    <tr>\n",
       "      <th>Age</th>\n",
       "      <td>0.016499</td>\n",
       "      <td>-0.184727</td>\n",
       "      <td>0.071825</td>\n",
       "      <td>-0.180895</td>\n",
       "      <td>1.000000</td>\n",
       "      <td>0.106735</td>\n",
       "      <td>-0.130344</td>\n",
       "      <td>0.097798</td>\n",
       "      <td>0.034700</td>\n",
       "      <td>0.034887</td>\n",
       "    </tr>\n",
       "    <tr>\n",
       "      <th>Monthly Housing/Rental</th>\n",
       "      <td>0.058990</td>\n",
       "      <td>-0.048313</td>\n",
       "      <td>0.319958</td>\n",
       "      <td>-0.068857</td>\n",
       "      <td>0.106735</td>\n",
       "      <td>1.000000</td>\n",
       "      <td>0.021123</td>\n",
       "      <td>0.313896</td>\n",
       "      <td>-0.063007</td>\n",
       "      <td>0.141889</td>\n",
       "    </tr>\n",
       "    <tr>\n",
       "      <th>Contract End Date</th>\n",
       "      <td>0.096560</td>\n",
       "      <td>0.050559</td>\n",
       "      <td>0.055936</td>\n",
       "      <td>0.005849</td>\n",
       "      <td>-0.130344</td>\n",
       "      <td>0.021123</td>\n",
       "      <td>1.000000</td>\n",
       "      <td>0.436136</td>\n",
       "      <td>-0.178618</td>\n",
       "      <td>-0.052307</td>\n",
       "    </tr>\n",
       "    <tr>\n",
       "      <th>Monthly Income</th>\n",
       "      <td>0.057044</td>\n",
       "      <td>-0.071185</td>\n",
       "      <td>0.599442</td>\n",
       "      <td>-0.059903</td>\n",
       "      <td>0.097798</td>\n",
       "      <td>0.313896</td>\n",
       "      <td>0.436136</td>\n",
       "      <td>1.000000</td>\n",
       "      <td>-0.059649</td>\n",
       "      <td>0.126947</td>\n",
       "    </tr>\n",
       "    <tr>\n",
       "      <th>Office (Area)</th>\n",
       "      <td>-0.023931</td>\n",
       "      <td>-0.039241</td>\n",
       "      <td>-0.058561</td>\n",
       "      <td>0.056034</td>\n",
       "      <td>0.034700</td>\n",
       "      <td>-0.063007</td>\n",
       "      <td>-0.178618</td>\n",
       "      <td>-0.059649</td>\n",
       "      <td>1.000000</td>\n",
       "      <td>-0.058305</td>\n",
       "    </tr>\n",
       "    <tr>\n",
       "      <th>Indicators</th>\n",
       "      <td>0.411229</td>\n",
       "      <td>-0.219492</td>\n",
       "      <td>0.139295</td>\n",
       "      <td>-0.319432</td>\n",
       "      <td>0.034887</td>\n",
       "      <td>0.141889</td>\n",
       "      <td>-0.052307</td>\n",
       "      <td>0.126947</td>\n",
       "      <td>-0.058305</td>\n",
       "      <td>1.000000</td>\n",
       "    </tr>\n",
       "  </tbody>\n",
       "</table>\n",
       "</div>"
      ],
      "text/plain": [
       "                              ID  Branch Code  Applied Loan Amount  \\\n",
       "ID                      1.000000    -0.114155             0.078838   \n",
       "Branch Code            -0.114155     1.000000            -0.093034   \n",
       "Applied Loan Amount     0.078838    -0.093034             1.000000   \n",
       "Applied Loan Tenor     -0.099940     0.165514             0.084397   \n",
       "Age                     0.016499    -0.184727             0.071825   \n",
       "Monthly Housing/Rental  0.058990    -0.048313             0.319958   \n",
       "Contract End Date       0.096560     0.050559             0.055936   \n",
       "Monthly Income          0.057044    -0.071185             0.599442   \n",
       "Office (Area)          -0.023931    -0.039241            -0.058561   \n",
       "Indicators              0.411229    -0.219492             0.139295   \n",
       "\n",
       "                        Applied Loan Tenor       Age  Monthly Housing/Rental  \\\n",
       "ID                               -0.099940  0.016499                0.058990   \n",
       "Branch Code                       0.165514 -0.184727               -0.048313   \n",
       "Applied Loan Amount               0.084397  0.071825                0.319958   \n",
       "Applied Loan Tenor                1.000000 -0.180895               -0.068857   \n",
       "Age                              -0.180895  1.000000                0.106735   \n",
       "Monthly Housing/Rental           -0.068857  0.106735                1.000000   \n",
       "Contract End Date                 0.005849 -0.130344                0.021123   \n",
       "Monthly Income                   -0.059903  0.097798                0.313896   \n",
       "Office (Area)                     0.056034  0.034700               -0.063007   \n",
       "Indicators                       -0.319432  0.034887                0.141889   \n",
       "\n",
       "                        Contract End Date  Monthly Income  Office (Area)  \\\n",
       "ID                               0.096560        0.057044      -0.023931   \n",
       "Branch Code                      0.050559       -0.071185      -0.039241   \n",
       "Applied Loan Amount              0.055936        0.599442      -0.058561   \n",
       "Applied Loan Tenor               0.005849       -0.059903       0.056034   \n",
       "Age                             -0.130344        0.097798       0.034700   \n",
       "Monthly Housing/Rental           0.021123        0.313896      -0.063007   \n",
       "Contract End Date                1.000000        0.436136      -0.178618   \n",
       "Monthly Income                   0.436136        1.000000      -0.059649   \n",
       "Office (Area)                   -0.178618       -0.059649       1.000000   \n",
       "Indicators                      -0.052307        0.126947      -0.058305   \n",
       "\n",
       "                        Indicators  \n",
       "ID                        0.411229  \n",
       "Branch Code              -0.219492  \n",
       "Applied Loan Amount       0.139295  \n",
       "Applied Loan Tenor       -0.319432  \n",
       "Age                       0.034887  \n",
       "Monthly Housing/Rental    0.141889  \n",
       "Contract End Date        -0.052307  \n",
       "Monthly Income            0.126947  \n",
       "Office (Area)            -0.058305  \n",
       "Indicators                1.000000  "
      ]
     },
     "execution_count": 8,
     "metadata": {},
     "output_type": "execute_result"
    }
   ],
   "source": [
    "df.corr()"
   ]
  },
  {
   "cell_type": "code",
   "execution_count": 9,
   "metadata": {},
   "outputs": [
    {
     "data": {
      "text/plain": [
       "ID                                   int64\n",
       "Branch Code                          int64\n",
       "Application In-take Date    datetime64[ns]\n",
       "Application Input Date      datetime64[ns]\n",
       "Applied Loan Amount                  int64\n",
       "Applied Loan Tenor                   int64\n",
       "Loan Purpose                        object\n",
       "Title                               object\n",
       "Gender                              object\n",
       "Age                                float64\n",
       "Marital Status                      object\n",
       "Education Level                     object\n",
       "Residential Status                  object\n",
       "Monthly Housing/Rental             float64\n",
       "Contract Staff (Y/N)                object\n",
       "Contract End Date                  float64\n",
       "Employment Type                     object\n",
       "Nature of Business                  object\n",
       "Job Position                        object\n",
       "Monthly Income                     float64\n",
       "Office (Area)                      float64\n",
       "Date (Full Doc)             datetime64[ns]\n",
       "Date (Pending Doc)          datetime64[ns]\n",
       "Date (Pending Approval)     datetime64[ns]\n",
       "Final_Status                        object\n",
       "Indicators                           int64\n",
       "dtype: object"
      ]
     },
     "execution_count": 9,
     "metadata": {},
     "output_type": "execute_result"
    }
   ],
   "source": [
    "df.dtypes"
   ]
  },
  {
   "cell_type": "markdown",
   "metadata": {},
   "source": [
    "<br>\n",
    "<br>\n",
    "<br>\n",
    "\n",
    "\n",
    "\n",
    "# CLEANING DATA\n",
    "\n",
    "<BR>\n",
    "    <BR>"
   ]
  },
  {
   "cell_type": "code",
   "execution_count": 125,
   "metadata": {},
   "outputs": [],
   "source": [
    "\n",
    "col = [\"ID\",\"Branch Code\",\"Application In-take Date\",\"Applied Loan Amount\",\"Applied Loan Tenor\",\"Loan Purpose\",\"Gender\",\"Age\",\"Marital Status\",\"Education Level\",\"Residential Status\",\"Monthly Housing/Rental\",\"Contract Staff (Y/N)\",\"Employment Type\",\"Nature of Business\",\"Job Position\",\"Monthly Income\",\"Office (Area)\",\"Final_Status\",\"Indicators\"]"
   ]
  },
  {
   "cell_type": "code",
   "execution_count": 126,
   "metadata": {},
   "outputs": [],
   "source": [
    "loan = df[col]"
   ]
  },
  {
   "cell_type": "code",
   "execution_count": 11,
   "metadata": {},
   "outputs": [
    {
     "data": {
      "text/html": [
       "<div>\n",
       "<style scoped>\n",
       "    .dataframe tbody tr th:only-of-type {\n",
       "        vertical-align: middle;\n",
       "    }\n",
       "\n",
       "    .dataframe tbody tr th {\n",
       "        vertical-align: top;\n",
       "    }\n",
       "\n",
       "    .dataframe thead th {\n",
       "        text-align: right;\n",
       "    }\n",
       "</style>\n",
       "<table border=\"1\" class=\"dataframe\">\n",
       "  <thead>\n",
       "    <tr style=\"text-align: right;\">\n",
       "      <th></th>\n",
       "      <th>ID</th>\n",
       "      <th>Branch Code</th>\n",
       "      <th>Application In-take Date</th>\n",
       "      <th>Applied Loan Amount</th>\n",
       "      <th>Applied Loan Tenor</th>\n",
       "      <th>Loan Purpose</th>\n",
       "      <th>Gender</th>\n",
       "      <th>Age</th>\n",
       "      <th>Marital Status</th>\n",
       "      <th>Education Level</th>\n",
       "      <th>Residential Status</th>\n",
       "      <th>Monthly Housing/Rental</th>\n",
       "      <th>Contract Staff (Y/N)</th>\n",
       "      <th>Employment Type</th>\n",
       "      <th>Nature of Business</th>\n",
       "      <th>Job Position</th>\n",
       "      <th>Monthly Income</th>\n",
       "      <th>Office (Area)</th>\n",
       "      <th>Final_Status</th>\n",
       "      <th>Indicators</th>\n",
       "    </tr>\n",
       "  </thead>\n",
       "  <tbody>\n",
       "    <tr>\n",
       "      <th>0</th>\n",
       "      <td>1</td>\n",
       "      <td>570</td>\n",
       "      <td>2012-04-11</td>\n",
       "      <td>60000</td>\n",
       "      <td>24</td>\n",
       "      <td>Car Purchase</td>\n",
       "      <td>M</td>\n",
       "      <td>22.301</td>\n",
       "      <td>Single</td>\n",
       "      <td>Secondary</td>\n",
       "      <td>Live With Relatives</td>\n",
       "      <td>0.0</td>\n",
       "      <td>N</td>\n",
       "      <td>Fixed Income Earner</td>\n",
       "      <td>Sales</td>\n",
       "      <td>Private</td>\n",
       "      <td>10245.0</td>\n",
       "      <td>2.0</td>\n",
       "      <td>Rejected</td>\n",
       "      <td>0</td>\n",
       "    </tr>\n",
       "    <tr>\n",
       "      <th>1</th>\n",
       "      <td>2</td>\n",
       "      <td>566</td>\n",
       "      <td>2012-04-11</td>\n",
       "      <td>100000</td>\n",
       "      <td>60</td>\n",
       "      <td>Settle Loan / Credit Card O/S</td>\n",
       "      <td>M</td>\n",
       "      <td>33.159</td>\n",
       "      <td>Single</td>\n",
       "      <td>Form 3 or below</td>\n",
       "      <td>Live With Relatives</td>\n",
       "      <td>0.0</td>\n",
       "      <td>N</td>\n",
       "      <td>Fixed Income Earner</td>\n",
       "      <td>Services</td>\n",
       "      <td>Private</td>\n",
       "      <td>10000.0</td>\n",
       "      <td>1.0</td>\n",
       "      <td>Rejected</td>\n",
       "      <td>0</td>\n",
       "    </tr>\n",
       "    <tr>\n",
       "      <th>2</th>\n",
       "      <td>3</td>\n",
       "      <td>546</td>\n",
       "      <td>2012-04-12</td>\n",
       "      <td>50000</td>\n",
       "      <td>24</td>\n",
       "      <td>Personal use</td>\n",
       "      <td>F</td>\n",
       "      <td>28.389</td>\n",
       "      <td>Married</td>\n",
       "      <td>University</td>\n",
       "      <td>Rental</td>\n",
       "      <td>2000.0</td>\n",
       "      <td>N</td>\n",
       "      <td>Fixed Income Earner</td>\n",
       "      <td>Services</td>\n",
       "      <td>Private</td>\n",
       "      <td>9700.0</td>\n",
       "      <td>3.0</td>\n",
       "      <td>Rejected</td>\n",
       "      <td>0</td>\n",
       "    </tr>\n",
       "    <tr>\n",
       "      <th>3</th>\n",
       "      <td>4</td>\n",
       "      <td>548</td>\n",
       "      <td>2012-04-12</td>\n",
       "      <td>70000</td>\n",
       "      <td>36</td>\n",
       "      <td>Personal use</td>\n",
       "      <td>M</td>\n",
       "      <td>35.573</td>\n",
       "      <td>Married</td>\n",
       "      <td>Post Graduate</td>\n",
       "      <td>Rental</td>\n",
       "      <td>1200.0</td>\n",
       "      <td>N</td>\n",
       "      <td>Civil Servant</td>\n",
       "      <td>Manager</td>\n",
       "      <td>Government/Semi-Government</td>\n",
       "      <td>23000.0</td>\n",
       "      <td>2.0</td>\n",
       "      <td>Rejected</td>\n",
       "      <td>0</td>\n",
       "    </tr>\n",
       "    <tr>\n",
       "      <th>4</th>\n",
       "      <td>5</td>\n",
       "      <td>539</td>\n",
       "      <td>2012-04-13</td>\n",
       "      <td>300000</td>\n",
       "      <td>60</td>\n",
       "      <td>Settle Loan / Credit Card O/S</td>\n",
       "      <td>F</td>\n",
       "      <td>30.849</td>\n",
       "      <td>Single</td>\n",
       "      <td>University</td>\n",
       "      <td>Mortgaged Private Housing</td>\n",
       "      <td>11000.0</td>\n",
       "      <td>N</td>\n",
       "      <td>Fixed Income Earner</td>\n",
       "      <td>Manager</td>\n",
       "      <td>Private</td>\n",
       "      <td>34000.0</td>\n",
       "      <td>1.0</td>\n",
       "      <td>Rejected</td>\n",
       "      <td>0</td>\n",
       "    </tr>\n",
       "  </tbody>\n",
       "</table>\n",
       "</div>"
      ],
      "text/plain": [
       "   ID  Branch Code Application In-take Date  Applied Loan Amount  \\\n",
       "0   1          570               2012-04-11                60000   \n",
       "1   2          566               2012-04-11               100000   \n",
       "2   3          546               2012-04-12                50000   \n",
       "3   4          548               2012-04-12                70000   \n",
       "4   5          539               2012-04-13               300000   \n",
       "\n",
       "   Applied Loan Tenor                   Loan Purpose Gender     Age  \\\n",
       "0                  24                   Car Purchase      M  22.301   \n",
       "1                  60  Settle Loan / Credit Card O/S      M  33.159   \n",
       "2                  24                   Personal use      F  28.389   \n",
       "3                  36                   Personal use      M  35.573   \n",
       "4                  60  Settle Loan / Credit Card O/S      F  30.849   \n",
       "\n",
       "  Marital Status  Education Level         Residential Status  \\\n",
       "0         Single        Secondary        Live With Relatives   \n",
       "1         Single  Form 3 or below        Live With Relatives   \n",
       "2        Married       University                     Rental   \n",
       "3        Married    Post Graduate                     Rental   \n",
       "4         Single       University  Mortgaged Private Housing   \n",
       "\n",
       "   Monthly Housing/Rental Contract Staff (Y/N)      Employment Type  \\\n",
       "0                     0.0                    N  Fixed Income Earner   \n",
       "1                     0.0                    N  Fixed Income Earner   \n",
       "2                  2000.0                    N  Fixed Income Earner   \n",
       "3                  1200.0                    N        Civil Servant   \n",
       "4                 11000.0                    N  Fixed Income Earner   \n",
       "\n",
       "  Nature of Business                Job Position  Monthly Income  \\\n",
       "0              Sales                     Private         10245.0   \n",
       "1           Services                     Private         10000.0   \n",
       "2           Services                     Private          9700.0   \n",
       "3            Manager  Government/Semi-Government         23000.0   \n",
       "4            Manager                     Private         34000.0   \n",
       "\n",
       "   Office (Area) Final_Status  Indicators  \n",
       "0            2.0     Rejected           0  \n",
       "1            1.0     Rejected           0  \n",
       "2            3.0     Rejected           0  \n",
       "3            2.0     Rejected           0  \n",
       "4            1.0     Rejected           0  "
      ]
     },
     "execution_count": 11,
     "metadata": {},
     "output_type": "execute_result"
    }
   ],
   "source": [
    "loan.head()"
   ]
  },
  {
   "cell_type": "markdown",
   "metadata": {},
   "source": [
    "### COUNTING REJECTED AND ACCEPTED APPLICANTS"
   ]
  },
  {
   "cell_type": "markdown",
   "metadata": {},
   "source": [
    "."
   ]
  },
  {
   "cell_type": "code",
   "execution_count": 12,
   "metadata": {},
   "outputs": [
    {
     "data": {
      "text/plain": [
       "Rejected             6278\n",
       "Apvd_Drawdown        5345\n",
       "Apvd_Pending_Draw      46\n",
       "Name: Final_Status, dtype: int64"
      ]
     },
     "execution_count": 12,
     "metadata": {},
     "output_type": "execute_result"
    }
   ],
   "source": [
    "# bar plot to visualize the frequency\n",
    "loan[\"Final_Status\"].value_counts()"
   ]
  },
  {
   "cell_type": "markdown",
   "metadata": {},
   "source": [
    "<br><br>\n",
    "\n",
    "## So we see that Rejected Number of Appication are 6278\n",
    "\n",
    "\n",
    "## So we see that  Apvd_Drawdown  of Appication are 5345\n",
    "\n",
    "\n",
    "## So we see that  Apvd_Pending_Draw of Appication are 46\n",
    "\n",
    "\n",
    "\n",
    "<br>\n",
    "<br>"
   ]
  },
  {
   "cell_type": "code",
   "execution_count": 13,
   "metadata": {},
   "outputs": [
    {
     "data": {
      "text/plain": [
       "<matplotlib.axes._subplots.AxesSubplot at 0x178c82caa48>"
      ]
     },
     "execution_count": 13,
     "metadata": {},
     "output_type": "execute_result"
    },
    {
     "data": {
      "image/png": "[encoded data removed]",
      "text/plain": [
       "<Figure size 432x288 with 1 Axes>"
      ]
     },
     "metadata": {
      "needs_background": "light"
     },
     "output_type": "display_data"
    }
   ],
   "source": [
    "loan[\"Final_Status\"].value_counts().plot.bar()"
   ]
  },
  {
   "cell_type": "markdown",
   "metadata": {},
   "source": [
    "Lets Analyse with variable with are binary that is to use Gender, Age, Marital Status.\n",
    "\n",
    "\n",
    "<br>\n",
    "<br>\n",
    "<br>"
   ]
  },
  {
   "cell_type": "code",
   "execution_count": 14,
   "metadata": {},
   "outputs": [
    {
     "data": {
      "image/png": "[encoded data removed]",
      "text/plain": [
       "<Figure size 1440x720 with 2 Axes>"
      ]
     },
     "metadata": {
      "needs_background": "light"
     },
     "output_type": "display_data"
    }
   ],
   "source": [
    "# Visualizing categorical features\n",
    "# plt.figure(1)\n",
    "plt.subplot(231)\n",
    "loan['Gender'].value_counts(normalize=True).plot.bar(figsize=(20,10), title= 'Gender')\n",
    "\n",
    "plt.subplot(232)\n",
    "loan['Marital Status'].value_counts(normalize=True).plot.bar(title= 'Married')\n",
    "\n",
    "\n",
    "\n",
    "plt.show()"
   ]
  },
  {
   "cell_type": "markdown",
   "metadata": {},
   "source": [
    "### We see that 68% of loan Application is given by Male.\n",
    "\n",
    "### we see that around 62% loan application are given by Married.\n",
    "\n",
    "\n",
    "<br>"
   ]
  },
  {
   "cell_type": "code",
   "execution_count": 15,
   "metadata": {},
   "outputs": [
    {
     "data": {
      "image/png": "[encoded data removed]",
      "text/plain": [
       "<Figure size 864x288 with 3 Axes>"
      ]
     },
     "metadata": {
      "needs_background": "light"
     },
     "output_type": "display_data"
    }
   ],
   "source": [
    "plt.subplot(131)\n",
    "loan['Loan Purpose'].value_counts(normalize=True).plot.bar(figsize=(12,4), title= 'Loan Purpose')\n",
    "\n",
    "\n",
    "plt.subplot(132)\n",
    "loan['Education Level'].value_counts(normalize=True).plot.bar(title= 'Education Level')\n",
    "\n",
    "plt.subplot(133)\n",
    "loan['Residential Status'].value_counts(normalize=True).plot.bar(title= 'Residential Status')\n",
    "\n",
    "\n",
    "\n",
    "\n",
    "plt.show()"
   ]
  },
  {
   "cell_type": "markdown",
   "metadata": {},
   "source": [
    "<br>\n",
    "\n",
    "### 1) From the above Analysis we see that around 50% of the loan applicants take loan for Personal Use.\n",
    "\n",
    "### 2) From the above Analysis we see that around 40% of the loan applicants have done there education till Secoundry Schooling.\n",
    "\n",
    "### 3) From the above Analysis we see that around 45% of the loan applicants Live with there Relatives.\n",
    "\n",
    "\n",
    "<br>\n",
    "<br>"
   ]
  },
  {
   "cell_type": "code",
   "execution_count": 16,
   "metadata": {},
   "outputs": [
    {
     "data": {
      "text/plain": [
       "<matplotlib.axes._subplots.AxesSubplot at 0x178c8ca82c8>"
      ]
     },
     "execution_count": 16,
     "metadata": {},
     "output_type": "execute_result"
    },
    {
     "data": {
      "image/png": "[encoded data removed]",
      "text/plain": [
       "<Figure size 432x288 with 1 Axes>"
      ]
     },
     "metadata": {
      "needs_background": "light"
     },
     "output_type": "display_data"
    }
   ],
   "source": [
    "plt.subplot(111)\n",
    "loan['Employment Type'].value_counts(normalize=True).plot.bar(title= 'Employment Type')"
   ]
  },
  {
   "cell_type": "markdown",
   "metadata": {},
   "source": [
    "<br>\n",
    "<br>\n",
    "\n",
    "### Here From the above Analysis we see that around 72% of the loan applicants are Fixed Income Earner.\n",
    "\n",
    "<br>\n",
    "<br>\n",
    "\n"
   ]
  },
  {
   "cell_type": "code",
   "execution_count": 17,
   "metadata": {},
   "outputs": [
    {
     "data": {
      "text/plain": [
       "<matplotlib.axes._subplots.AxesSubplot at 0x178c8e50b48>"
      ]
     },
     "execution_count": 17,
     "metadata": {},
     "output_type": "execute_result"
    },
    {
     "data": {
      "image/png": "[encoded data removed]",
      "text/plain": [
       "<Figure size 432x288 with 1 Axes>"
      ]
     },
     "metadata": {
      "needs_background": "light"
     },
     "output_type": "display_data"
    }
   ],
   "source": [
    "plt.subplot(111)\n",
    "loan['Nature of Business'].value_counts(normalize=True).plot.bar(title= 'Nature of Business')"
   ]
  },
  {
   "cell_type": "markdown",
   "metadata": {},
   "source": [
    "<br>\n",
    "\n",
    "## Here From the above Analysis we see that around 28% of the loan applicants are Manager and around 18% are Office Workers.\n",
    "\n",
    "<br>"
   ]
  },
  {
   "cell_type": "code",
   "execution_count": 18,
   "metadata": {},
   "outputs": [
    {
     "data": {
      "text/plain": [
       "<matplotlib.axes._subplots.AxesSubplot at 0x178c8f125c8>"
      ]
     },
     "execution_count": 18,
     "metadata": {},
     "output_type": "execute_result"
    },
    {
     "data": {
      "image/png": "[encoded data removed]",
      "text/plain": [
       "<Figure size 432x288 with 1 Axes>"
      ]
     },
     "metadata": {
      "needs_background": "light"
     },
     "output_type": "display_data"
    }
   ],
   "source": [
    "plt.subplot(111)\n",
    "loan['Office (Area)'].value_counts(normalize=True).plot.bar(title= 'Office (Area)')"
   ]
  },
  {
   "cell_type": "markdown",
   "metadata": {},
   "source": [
    "### Here we see that around 37% of the people applied for loan are from office area 1 while 35% are from office area 2\n",
    "\n",
    "<br>"
   ]
  },
  {
   "cell_type": "code",
   "execution_count": 19,
   "metadata": {},
   "outputs": [
    {
     "data": {
      "image/png": "[encoded data removed]",
      "text/plain": [
       "<Figure size 1152x360 with 2 Axes>"
      ]
     },
     "metadata": {
      "needs_background": "light"
     },
     "output_type": "display_data"
    }
   ],
   "source": [
    "# Visualizing ApplicantIncome\n",
    "# plt.figure(1)\n",
    "plt.subplot(121)\n",
    "sns.distplot(loan['Monthly Income']);\n",
    "\n",
    "plt.subplot(122)\n",
    "loan['Monthly Income'].plot.box(figsize=(16,5))\n",
    "\n",
    "plt.show()\n"
   ]
  },
  {
   "cell_type": "markdown",
   "metadata": {},
   "source": [
    "### It can be inferred that most of the data in the distribution of applicant Mountly income is towards left which means it is not normally distributed. The distribution is right-skewed (positive skewness).\n",
    "\n",
    "### The boxplot confirms the presence of a lot of outliers/extreme values. This can be attributed to the income disparity in the society. Part of this can be driven by the fact that we are looking at people with different education levels.\n",
    "\n",
    "\n",
    "<br>"
   ]
  },
  {
   "cell_type": "code",
   "execution_count": 20,
   "metadata": {},
   "outputs": [
    {
     "data": {
      "text/plain": [
       "<matplotlib.axes._subplots.AxesSubplot at 0x178c8b5f1c8>"
      ]
     },
     "execution_count": 20,
     "metadata": {},
     "output_type": "execute_result"
    },
    {
     "data": {
      "image/png": "[encoded data removed]",
      "text/plain": [
       "<Figure size 720x576 with 1 Axes>"
      ]
     },
     "metadata": {
      "needs_background": "light"
     },
     "output_type": "display_data"
    }
   ],
   "source": [
    "fig_dims = (10, 8)\n",
    "fig, ax = plt.subplots(figsize=fig_dims)\n",
    "loan.boxplot(column='Monthly Income',ax=ax, by = 'Education Level')\n"
   ]
  },
  {
   "cell_type": "markdown",
   "metadata": {},
   "source": [
    "## We can see that there are a higher number of Post graduates and University People  with very high incomes, which are appearing to be the outliers.\n",
    "\n",
    "<br>"
   ]
  },
  {
   "cell_type": "code",
   "execution_count": 21,
   "metadata": {},
   "outputs": [
    {
     "data": {
      "image/png": "[encoded data removed]",
      "text/plain": [
       "<Figure size 1152x360 with 2 Axes>"
      ]
     },
     "metadata": {
      "needs_background": "light"
     },
     "output_type": "display_data"
    }
   ],
   "source": [
    "# plt.figure(1)\n",
    "plt.subplot(121)\n",
    "df=loan.dropna()\n",
    "\n",
    "sns.distplot(df['Applied Loan Amount']);\n",
    "\n",
    "plt.subplot(122)\n",
    "loan['Applied Loan Amount'].plot.box(figsize=(16,5))\n",
    "\n",
    "plt.show()\n"
   ]
  },
  {
   "cell_type": "markdown",
   "metadata": {},
   "source": [
    "## Now let’s look at the distribution of Loan Tenor variable."
   ]
  },
  {
   "cell_type": "code",
   "execution_count": 22,
   "metadata": {},
   "outputs": [
    {
     "data": {
      "text/html": [
       "<div>\n",
       "<style scoped>\n",
       "    .dataframe tbody tr th:only-of-type {\n",
       "        vertical-align: middle;\n",
       "    }\n",
       "\n",
       "    .dataframe tbody tr th {\n",
       "        vertical-align: top;\n",
       "    }\n",
       "\n",
       "    .dataframe thead th {\n",
       "        text-align: right;\n",
       "    }\n",
       "</style>\n",
       "<table border=\"1\" class=\"dataframe\">\n",
       "  <thead>\n",
       "    <tr style=\"text-align: right;\">\n",
       "      <th></th>\n",
       "      <th>Total_Applicants</th>\n",
       "    </tr>\n",
       "    <tr>\n",
       "      <th>Mounths</th>\n",
       "      <th></th>\n",
       "    </tr>\n",
       "  </thead>\n",
       "  <tbody>\n",
       "    <tr>\n",
       "      <th>12</th>\n",
       "      <td>3719</td>\n",
       "    </tr>\n",
       "    <tr>\n",
       "      <th>24</th>\n",
       "      <td>2375</td>\n",
       "    </tr>\n",
       "    <tr>\n",
       "      <th>60</th>\n",
       "      <td>2174</td>\n",
       "    </tr>\n",
       "    <tr>\n",
       "      <th>36</th>\n",
       "      <td>1397</td>\n",
       "    </tr>\n",
       "    <tr>\n",
       "      <th>48</th>\n",
       "      <td>920</td>\n",
       "    </tr>\n",
       "    <tr>\n",
       "      <th>18</th>\n",
       "      <td>446</td>\n",
       "    </tr>\n",
       "    <tr>\n",
       "      <th>6</th>\n",
       "      <td>427</td>\n",
       "    </tr>\n",
       "    <tr>\n",
       "      <th>72</th>\n",
       "      <td>211</td>\n",
       "    </tr>\n",
       "  </tbody>\n",
       "</table>\n",
       "</div>"
      ],
      "text/plain": [
       "         Total_Applicants\n",
       "Mounths                  \n",
       "12                   3719\n",
       "24                   2375\n",
       "60                   2174\n",
       "36                   1397\n",
       "48                    920\n",
       "18                    446\n",
       "6                     427\n",
       "72                    211"
      ]
     },
     "execution_count": 22,
     "metadata": {},
     "output_type": "execute_result"
    }
   ],
   "source": [
    "loan['Applied Loan Tenor'].value_counts().to_frame('Total_Applicants').rename_axis('Mounths')"
   ]
  },
  {
   "cell_type": "markdown",
   "metadata": {},
   "source": [
    "<br>\n",
    "\n",
    "## Above we can se total Applicants with there tenure time period.\n",
    "\n",
    "<br>"
   ]
  },
  {
   "cell_type": "code",
   "execution_count": 23,
   "metadata": {},
   "outputs": [
    {
     "data": {
      "text/plain": [
       "<matplotlib.axes._subplots.AxesSubplot at 0x178c80d7908>"
      ]
     },
     "execution_count": 23,
     "metadata": {},
     "output_type": "execute_result"
    },
    {
     "data": {
      "image/png": "[encoded data removed]",
      "text/plain": [
       "<Figure size 432x288 with 1 Axes>"
      ]
     },
     "metadata": {
      "needs_background": "light"
     },
     "output_type": "display_data"
    }
   ],
   "source": [
    "loan['Applied Loan Tenor'].value_counts(normalize=True).plot.bar(title= 'Loan_Amount_Term')"
   ]
  },
  {
   "cell_type": "markdown",
   "metadata": {},
   "source": [
    "## . Here graphically we can see that around 32% of the applicants have a tenure of 12 months. And around 20% have a tenure of 24 months."
   ]
  },
  {
   "cell_type": "markdown",
   "metadata": {},
   "source": [
    "<br>\n",
    "<br>\n",
    "\n",
    "<h1><center><font color=\"blue\">Lets See how different variables changes the Target variables</font></center></h1>"
   ]
  },
  {
   "cell_type": "code",
   "execution_count": 24,
   "metadata": {},
   "outputs": [
    {
     "name": "stdout",
     "output_type": "stream",
     "text": [
      "Final_Status  Apvd_Drawdown  Apvd_Pending_Draw  Rejected\n",
      "Gender                                                  \n",
      "F                      1771                 13      1889\n",
      "M                      3574                 33      4389\n"
     ]
    },
    {
     "data": {
      "image/png": "[encoded data removed]",
      "text/plain": [
       "<Figure size 720x720 with 1 Axes>"
      ]
     },
     "metadata": {
      "needs_background": "light"
     },
     "output_type": "display_data"
    }
   ],
   "source": [
    "\n",
    "print(pd.crosstab(loan['Gender'],loan['Final_Status']))\n",
    "\n",
    "Gender = pd.crosstab(loan['Gender'],loan['Final_Status'])\n",
    "Gender.div(Gender.sum(1).astype(float), axis = 0).plot(kind=\"bar\", stacked=True, figsize=(10,10))\n",
    "plt.xlabel('Gender')\n",
    "p = plt.ylabel('Percentage')"
   ]
  },
  {
   "cell_type": "code",
   "execution_count": 25,
   "metadata": {},
   "outputs": [
    {
     "name": "stdout",
     "output_type": "stream",
     "text": [
      "Final_Status    Apvd_Drawdown  Apvd_Pending_Draw  Rejected\n",
      "Marital Status                                            \n",
      "Divorced                  109                  1       270\n",
      "Married                  3571                 33      3735\n",
      "No Response               104                  0       113\n",
      "Separated                   3                  0         6\n",
      "Single                   1543                 12      2132\n",
      "Widowed                    15                  0        22\n"
     ]
    },
    {
     "data": {
      "image/png": "[encoded data removed]",
      "text/plain": [
       "<Figure size 720x720 with 1 Axes>"
      ]
     },
     "metadata": {
      "needs_background": "light"
     },
     "output_type": "display_data"
    }
   ],
   "source": [
    "\n",
    "print(pd.crosstab(loan['Marital Status'],loan['Final_Status']))\n",
    "\n",
    "Married = pd.crosstab(loan['Marital Status'],loan['Final_Status'])\n",
    "Married.div(Married.sum(1).astype(float), axis=0).plot(kind=\"bar\", stacked=True, figsize=(10,10))\n",
    "plt.xlabel('Married')\n",
    "p = plt.ylabel('Percentage')"
   ]
  },
  {
   "cell_type": "code",
   "execution_count": 26,
   "metadata": {},
   "outputs": [
    {
     "name": "stdout",
     "output_type": "stream",
     "text": [
      "Final_Status                Apvd_Drawdown  Apvd_Pending_Draw  Rejected\n",
      "Employment Type                                                       \n",
      "Civil Servant                         940                  3       380\n",
      "Fixed Income Earner                  3786                 38      4678\n",
      "Non Fixed Income Earner               333                  4       574\n",
      "Not Applicable                         13                  0        53\n",
      "Self-Employed                         264                  1       583\n",
      "Self-Employed Professional              9                  0        10\n"
     ]
    },
    {
     "data": {
      "image/png": "[encoded data removed]",
      "text/plain": [
       "<Figure size 720x720 with 1 Axes>"
      ]
     },
     "metadata": {
      "needs_background": "light"
     },
     "output_type": "display_data"
    }
   ],
   "source": [
    "print(pd.crosstab(loan['Employment Type'],loan['Final_Status']))\n",
    "\n",
    "Dependents=pd.crosstab(loan['Employment Type'],loan['Final_Status'])\n",
    "Dependents.div(Dependents.sum(1).astype(float), axis=0).plot(kind=\"bar\", stacked=True,figsize=(10,10))\n",
    "plt.xlabel('Employment Type')\n",
    "p = plt.ylabel('Percentage')"
   ]
  },
  {
   "cell_type": "code",
   "execution_count": 27,
   "metadata": {},
   "outputs": [
    {
     "name": "stdout",
     "output_type": "stream",
     "text": [
      "Final_Status     Apvd_Drawdown  Apvd_Pending_Draw  Rejected\n",
      "Education Level                                            \n",
      "Form 3 or below             57                  0       270\n",
      "No Response                149                  2       150\n",
      "Post Graduate             1618                 11       832\n",
      "Post Secondary             354                  4       402\n",
      "Primary                     38                  1       234\n",
      "Secondary                 1565                 14      3139\n",
      "University                1564                 14      1251\n"
     ]
    },
    {
     "data": {
      "image/png": "[encoded data removed]",
      "text/plain": [
       "<Figure size 720x720 with 1 Axes>"
      ]
     },
     "metadata": {
      "needs_background": "light"
     },
     "output_type": "display_data"
    }
   ],
   "source": [
    "print(pd.crosstab(loan['Education Level'],loan['Final_Status']))\n",
    "\n",
    "Dependents=pd.crosstab(loan['Education Level'],loan['Final_Status'])\n",
    "Dependents.div(Dependents.sum(1).astype(float), axis=0).plot(kind=\"bar\", stacked=True,figsize=(10,10))\n",
    "plt.xlabel('Education Level')\n",
    "p = plt.ylabel('Percentage')"
   ]
  },
  {
   "cell_type": "code",
   "execution_count": 28,
   "metadata": {},
   "outputs": [
    {
     "name": "stdout",
     "output_type": "stream",
     "text": [
      "Final_Status                Apvd_Drawdown  Apvd_Pending_Draw  Rejected\n",
      "Job Position                                                          \n",
      "Government/Semi-Government           1028                  4       424\n",
      "Homemaker                               0                  0        19\n",
      "No Response                             0                  0         9\n",
      "Private                              3990                 41      5143\n",
      "Public                                 40                  0        61\n",
      "Retired                                22                  0        40\n",
      "Self Employed                         265                  1       572\n",
      "Student                                 0                  0         3\n",
      "Unemployed                              0                  0         7\n"
     ]
    },
    {
     "data": {
      "image/png": "[encoded data removed]",
      "text/plain": [
       "<Figure size 720x720 with 1 Axes>"
      ]
     },
     "metadata": {
      "needs_background": "light"
     },
     "output_type": "display_data"
    }
   ],
   "source": [
    "print(pd.crosstab(loan['Job Position'],loan['Final_Status']))\n",
    "\n",
    "Dependents=pd.crosstab(loan['Job Position'],loan['Final_Status'])\n",
    "Dependents.div(Dependents.sum(1).astype(float), axis=0).plot(kind=\"bar\", stacked=True,figsize=(10,10))\n",
    "plt.xlabel('Job Position')\n",
    "p = plt.ylabel('Percentage')"
   ]
  },
  {
   "cell_type": "code",
   "execution_count": 29,
   "metadata": {},
   "outputs": [
    {
     "name": "stdout",
     "output_type": "stream",
     "text": [
      "Final_Status         Apvd_Drawdown  Apvd_Pending_Draw  Rejected\n",
      "Nature of Business                                             \n",
      "All Other                       13                  0        39\n",
      "Construction Trades             13                  0        70\n",
      "Driver                          87                  2       225\n",
      "Executive                      759                  6       354\n",
      "Factory Worker                   8                  0        65\n",
      "Guard                           72                  3       221\n",
      "Homemaker                        0                  0        21\n",
      "Manager                       1871                 15      1500\n",
      "No Response                      0                  0         6\n",
      "Office Worker                  908                 11      1068\n",
      "Owner of a Business            240                  1       535\n",
      "Professional                   471                  2       246\n",
      "Retired                         22                  0        48\n",
      "Sales                          174                  3       353\n",
      "Semi Professional               18                  0        14\n",
      "Services                       537                  3      1008\n",
      "Skilled Worker                 126                  0       347\n",
      "Student                          0                  0         2\n",
      "Unemployed                       0                  0         6\n",
      "Unskilled Worker                26                  0       150\n"
     ]
    },
    {
     "data": {
      "image/png": "[encoded data removed]",
      "text/plain": [
       "<Figure size 720x720 with 1 Axes>"
      ]
     },
     "metadata": {
      "needs_background": "light"
     },
     "output_type": "display_data"
    }
   ],
   "source": [
    "print(pd.crosstab(loan['Nature of Business'],loan['Final_Status']))\n",
    "\n",
    "Dependents=pd.crosstab(loan['Nature of Business'],loan['Final_Status'])\n",
    "Dependents.div(Dependents.sum(1).astype(float), axis=0).plot(kind=\"bar\", stacked=True,figsize=(10,10))\n",
    "plt.xlabel('Nature of Business')\n",
    "p = plt.ylabel('Percentage')"
   ]
  },
  {
   "cell_type": "code",
   "execution_count": 30,
   "metadata": {},
   "outputs": [
    {
     "name": "stdout",
     "output_type": "stream",
     "text": [
      "Final_Status                   Apvd_Drawdown  Apvd_Pending_Draw  Rejected\n",
      "Loan Purpose                                                             \n",
      "Birth Giving                               2                  0         5\n",
      "Business                                  18                  0        78\n",
      "Car Purchase                              37                  2        67\n",
      "Decoration                                36                  0        75\n",
      "Education                                 18                  0        46\n",
      "Funeral Expenses                           3                  0        13\n",
      "Investment                                44                  1       108\n",
      "Marriage                                  15                  0        33\n",
      "Medical Expenses                           1                  0        22\n",
      "Personal use                            2031                 38      3643\n",
      "Settle Loan / Credit Card O/S            203                  4      1023\n",
      "Stand by                                  36                  1        94\n",
      "Tax Payment                             2895                  0      1055\n",
      "Traveling                                  5                  0         9\n"
     ]
    },
    {
     "data": {
      "image/png": "[encoded data removed]",
      "text/plain": [
       "<Figure size 720x720 with 1 Axes>"
      ]
     },
     "metadata": {
      "needs_background": "light"
     },
     "output_type": "display_data"
    }
   ],
   "source": [
    "print(pd.crosstab(loan['Loan Purpose'],loan['Final_Status']))\n",
    "\n",
    "Dependents=pd.crosstab(loan['Loan Purpose'],loan['Final_Status'])\n",
    "Dependents.div(Dependents.sum(1).astype(float), axis=0).plot(kind=\"bar\", stacked=True,figsize=(10,10))\n",
    "plt.xlabel('Loan Purpose')\n",
    "p = plt.ylabel('Percentage')"
   ]
  },
  {
   "cell_type": "markdown",
   "metadata": {},
   "source": [
    "### FROM THE BAR CHARTS ABOVE WE CAN SAY THAT - :\n",
    "\n",
    ". Male and Female have quite similar chance of getting the loan.<br>\n",
    ". Married people have 50% chance of getting the loan approved.<br>\n",
    ". Civil servents have the most chance of getting the loan approved.<br>\n",
    ". People who are post Graduate or have a University degree have the most chance of getting loan appproved.<br>\n",
    ". People with Government/Semi-government have 70% chance of getting there Loan Approved.<br>\n",
    ". In business line people who are Executive and Professional have the most chance of getting the loan that is around 70%.<br>\n",
    ". People who take loan for Tax Payment purpose have the major chance of getting the loan that is around 72%."
   ]
  },
  {
   "cell_type": "markdown",
   "metadata": {},
   "source": [
    "<br>\n",
    "<br>\n",
    "\n",
    "\n",
    "\n",
    "\n",
    "\n",
    "### The mean income of people for which the loan has been approved vs the mean income of people for which the loan has not been approved."
   ]
  },
  {
   "cell_type": "code",
   "execution_count": 31,
   "metadata": {},
   "outputs": [
    {
     "name": "stdout",
     "output_type": "stream",
     "text": [
      "Final_Status\n",
      "Apvd_Drawdown        62041.835747\n",
      "Apvd_Pending_Draw    33699.785652\n",
      "Rejected             34273.071891\n",
      "Name: Monthly Income, dtype: float64\n"
     ]
    },
    {
     "data": {
      "text/plain": [
       "<matplotlib.axes._subplots.AxesSubplot at 0x178c7f9b3c8>"
      ]
     },
     "execution_count": 31,
     "metadata": {},
     "output_type": "execute_result"
    },
    {
     "data": {
      "image/png": "[encoded data removed]",
      "text/plain": [
       "<Figure size 864x720 with 1 Axes>"
      ]
     },
     "metadata": {
      "needs_background": "light"
     },
     "output_type": "display_data"
    }
   ],
   "source": [
    "print(loan.groupby('Final_Status')['Monthly Income'].mean())\n",
    "plt.figure(figsize=(12,10))\n",
    "loan.groupby('Final_Status')['Monthly Income'].mean().plot.bar()"
   ]
  },
  {
   "cell_type": "markdown",
   "metadata": {},
   "source": [
    "Here the y-axis represents the mean applicant income.From the analysis I can conclude that majority of the people whose loan is approved have there income greater than 60000."
   ]
  },
  {
   "cell_type": "markdown",
   "metadata": {},
   "source": [
    "## For more accurate analysis making bins of income"
   ]
  },
  {
   "cell_type": "code",
   "execution_count": 32,
   "metadata": {},
   "outputs": [
    {
     "data": {
      "text/plain": [
       "3490722.0"
      ]
     },
     "execution_count": 32,
     "metadata": {},
     "output_type": "execute_result"
    }
   ],
   "source": [
    "loan['Monthly Income'].max()"
   ]
  },
  {
   "cell_type": "code",
   "execution_count": 33,
   "metadata": {},
   "outputs": [],
   "source": [
    "bins = [0,25000,50000,100000,810000]\n",
    "group = ['Low','Average','High', 'Very high']\n",
    "loan['Income_category'] = pd.cut(df['Monthly Income'],bins,labels=group)\n"
   ]
  },
  {
   "cell_type": "code",
   "execution_count": 34,
   "metadata": {},
   "outputs": [
    {
     "data": {
      "text/html": [
       "<div>\n",
       "<style scoped>\n",
       "    .dataframe tbody tr th:only-of-type {\n",
       "        vertical-align: middle;\n",
       "    }\n",
       "\n",
       "    .dataframe tbody tr th {\n",
       "        vertical-align: top;\n",
       "    }\n",
       "\n",
       "    .dataframe thead th {\n",
       "        text-align: right;\n",
       "    }\n",
       "</style>\n",
       "<table border=\"1\" class=\"dataframe\">\n",
       "  <thead>\n",
       "    <tr style=\"text-align: right;\">\n",
       "      <th></th>\n",
       "      <th>ID</th>\n",
       "      <th>Branch Code</th>\n",
       "      <th>Application In-take Date</th>\n",
       "      <th>Applied Loan Amount</th>\n",
       "      <th>Applied Loan Tenor</th>\n",
       "      <th>Loan Purpose</th>\n",
       "      <th>Gender</th>\n",
       "      <th>Age</th>\n",
       "      <th>Marital Status</th>\n",
       "      <th>Education Level</th>\n",
       "      <th>...</th>\n",
       "      <th>Monthly Housing/Rental</th>\n",
       "      <th>Contract Staff (Y/N)</th>\n",
       "      <th>Employment Type</th>\n",
       "      <th>Nature of Business</th>\n",
       "      <th>Job Position</th>\n",
       "      <th>Monthly Income</th>\n",
       "      <th>Office (Area)</th>\n",
       "      <th>Final_Status</th>\n",
       "      <th>Indicators</th>\n",
       "      <th>Income_category</th>\n",
       "    </tr>\n",
       "  </thead>\n",
       "  <tbody>\n",
       "    <tr>\n",
       "      <th>0</th>\n",
       "      <td>1</td>\n",
       "      <td>570</td>\n",
       "      <td>2012-04-11</td>\n",
       "      <td>60000</td>\n",
       "      <td>24</td>\n",
       "      <td>Car Purchase</td>\n",
       "      <td>M</td>\n",
       "      <td>22.301</td>\n",
       "      <td>Single</td>\n",
       "      <td>Secondary</td>\n",
       "      <td>...</td>\n",
       "      <td>0.0</td>\n",
       "      <td>N</td>\n",
       "      <td>Fixed Income Earner</td>\n",
       "      <td>Sales</td>\n",
       "      <td>Private</td>\n",
       "      <td>10245.0</td>\n",
       "      <td>2.0</td>\n",
       "      <td>Rejected</td>\n",
       "      <td>0</td>\n",
       "      <td>Low</td>\n",
       "    </tr>\n",
       "    <tr>\n",
       "      <th>1</th>\n",
       "      <td>2</td>\n",
       "      <td>566</td>\n",
       "      <td>2012-04-11</td>\n",
       "      <td>100000</td>\n",
       "      <td>60</td>\n",
       "      <td>Settle Loan / Credit Card O/S</td>\n",
       "      <td>M</td>\n",
       "      <td>33.159</td>\n",
       "      <td>Single</td>\n",
       "      <td>Form 3 or below</td>\n",
       "      <td>...</td>\n",
       "      <td>0.0</td>\n",
       "      <td>N</td>\n",
       "      <td>Fixed Income Earner</td>\n",
       "      <td>Services</td>\n",
       "      <td>Private</td>\n",
       "      <td>10000.0</td>\n",
       "      <td>1.0</td>\n",
       "      <td>Rejected</td>\n",
       "      <td>0</td>\n",
       "      <td>Low</td>\n",
       "    </tr>\n",
       "    <tr>\n",
       "      <th>2</th>\n",
       "      <td>3</td>\n",
       "      <td>546</td>\n",
       "      <td>2012-04-12</td>\n",
       "      <td>50000</td>\n",
       "      <td>24</td>\n",
       "      <td>Personal use</td>\n",
       "      <td>F</td>\n",
       "      <td>28.389</td>\n",
       "      <td>Married</td>\n",
       "      <td>University</td>\n",
       "      <td>...</td>\n",
       "      <td>2000.0</td>\n",
       "      <td>N</td>\n",
       "      <td>Fixed Income Earner</td>\n",
       "      <td>Services</td>\n",
       "      <td>Private</td>\n",
       "      <td>9700.0</td>\n",
       "      <td>3.0</td>\n",
       "      <td>Rejected</td>\n",
       "      <td>0</td>\n",
       "      <td>Low</td>\n",
       "    </tr>\n",
       "    <tr>\n",
       "      <th>3</th>\n",
       "      <td>4</td>\n",
       "      <td>548</td>\n",
       "      <td>2012-04-12</td>\n",
       "      <td>70000</td>\n",
       "      <td>36</td>\n",
       "      <td>Personal use</td>\n",
       "      <td>M</td>\n",
       "      <td>35.573</td>\n",
       "      <td>Married</td>\n",
       "      <td>Post Graduate</td>\n",
       "      <td>...</td>\n",
       "      <td>1200.0</td>\n",
       "      <td>N</td>\n",
       "      <td>Civil Servant</td>\n",
       "      <td>Manager</td>\n",
       "      <td>Government/Semi-Government</td>\n",
       "      <td>23000.0</td>\n",
       "      <td>2.0</td>\n",
       "      <td>Rejected</td>\n",
       "      <td>0</td>\n",
       "      <td>Low</td>\n",
       "    </tr>\n",
       "    <tr>\n",
       "      <th>4</th>\n",
       "      <td>5</td>\n",
       "      <td>539</td>\n",
       "      <td>2012-04-13</td>\n",
       "      <td>300000</td>\n",
       "      <td>60</td>\n",
       "      <td>Settle Loan / Credit Card O/S</td>\n",
       "      <td>F</td>\n",
       "      <td>30.849</td>\n",
       "      <td>Single</td>\n",
       "      <td>University</td>\n",
       "      <td>...</td>\n",
       "      <td>11000.0</td>\n",
       "      <td>N</td>\n",
       "      <td>Fixed Income Earner</td>\n",
       "      <td>Manager</td>\n",
       "      <td>Private</td>\n",
       "      <td>34000.0</td>\n",
       "      <td>1.0</td>\n",
       "      <td>Rejected</td>\n",
       "      <td>0</td>\n",
       "      <td>Average</td>\n",
       "    </tr>\n",
       "  </tbody>\n",
       "</table>\n",
       "<p>5 rows × 21 columns</p>\n",
       "</div>"
      ],
      "text/plain": [
       "   ID  Branch Code Application In-take Date  Applied Loan Amount  \\\n",
       "0   1          570               2012-04-11                60000   \n",
       "1   2          566               2012-04-11               100000   \n",
       "2   3          546               2012-04-12                50000   \n",
       "3   4          548               2012-04-12                70000   \n",
       "4   5          539               2012-04-13               300000   \n",
       "\n",
       "   Applied Loan Tenor                   Loan Purpose Gender     Age  \\\n",
       "0                  24                   Car Purchase      M  22.301   \n",
       "1                  60  Settle Loan / Credit Card O/S      M  33.159   \n",
       "2                  24                   Personal use      F  28.389   \n",
       "3                  36                   Personal use      M  35.573   \n",
       "4                  60  Settle Loan / Credit Card O/S      F  30.849   \n",
       "\n",
       "  Marital Status  Education Level  ... Monthly Housing/Rental  \\\n",
       "0         Single        Secondary  ...                    0.0   \n",
       "1         Single  Form 3 or below  ...                    0.0   \n",
       "2        Married       University  ...                 2000.0   \n",
       "3        Married    Post Graduate  ...                 1200.0   \n",
       "4         Single       University  ...                11000.0   \n",
       "\n",
       "   Contract Staff (Y/N)      Employment Type Nature of Business  \\\n",
       "0                     N  Fixed Income Earner              Sales   \n",
       "1                     N  Fixed Income Earner           Services   \n",
       "2                     N  Fixed Income Earner           Services   \n",
       "3                     N        Civil Servant            Manager   \n",
       "4                     N  Fixed Income Earner            Manager   \n",
       "\n",
       "                 Job Position Monthly Income  Office (Area)  Final_Status  \\\n",
       "0                     Private        10245.0            2.0      Rejected   \n",
       "1                     Private        10000.0            1.0      Rejected   \n",
       "2                     Private         9700.0            3.0      Rejected   \n",
       "3  Government/Semi-Government        23000.0            2.0      Rejected   \n",
       "4                     Private        34000.0            1.0      Rejected   \n",
       "\n",
       "  Indicators  Income_category  \n",
       "0          0              Low  \n",
       "1          0              Low  \n",
       "2          0              Low  \n",
       "3          0              Low  \n",
       "4          0          Average  \n",
       "\n",
       "[5 rows x 21 columns]"
      ]
     },
     "execution_count": 34,
     "metadata": {},
     "output_type": "execute_result"
    }
   ],
   "source": [
    "loan.head()"
   ]
  },
  {
   "cell_type": "markdown",
   "metadata": {},
   "source": [
    "<br>\n",
    "<br>\n",
    "\n",
    "\n",
    "\n",
    "\n",
    "## I have added a new column Income_category at the last indicating the category of people monthly income.\n",
    "\n",
    "<br>"
   ]
  },
  {
   "cell_type": "code",
   "execution_count": 35,
   "metadata": {},
   "outputs": [
    {
     "name": "stdout",
     "output_type": "stream",
     "text": [
      "Final_Status     Apvd_Drawdown  Apvd_Pending_Draw  Rejected\n",
      "Income_category                                            \n",
      "Low                       1900                 21      3825\n",
      "Average                   1713                 13      1485\n",
      "High                      1129                 12       596\n",
      "Very high                  573                  0       254\n"
     ]
    },
    {
     "data": {
      "image/png": "[encoded data removed]",
      "text/plain": [
       "<Figure size 432x288 with 1 Axes>"
      ]
     },
     "metadata": {
      "needs_background": "light"
     },
     "output_type": "display_data"
    }
   ],
   "source": [
    "print(pd.crosstab(loan['Income_category'],loan['Final_Status']))\n",
    "\n",
    "Income_category = pd.crosstab(loan['Income_category'],loan['Final_Status'])\n",
    "Income_category.div(Income_category.sum(1).astype(float), axis=0).plot(kind=\"bar\", stacked=True)\n",
    "plt.xlabel('ApplicantIncome')\n",
    "P = plt.ylabel('Percentage')"
   ]
  },
  {
   "cell_type": "markdown",
   "metadata": {},
   "source": [
    "## So, People with High and Very high Income have more chances to get the loan.\n",
    "\n",
    "\n",
    "<br>"
   ]
  },
  {
   "cell_type": "code",
   "execution_count": 36,
   "metadata": {},
   "outputs": [
    {
     "name": "stdout",
     "output_type": "stream",
     "text": [
      "Final_Status\n",
      "Apvd_Drawdown        316603.086997\n",
      "Apvd_Pending_Draw    295000.000000\n",
      "Rejected             190774.307104\n",
      "Name: Applied Loan Amount, dtype: float64\n"
     ]
    },
    {
     "data": {
      "text/plain": [
       "<matplotlib.axes._subplots.AxesSubplot at 0x178c81633c8>"
      ]
     },
     "execution_count": 36,
     "metadata": {},
     "output_type": "execute_result"
    },
    {
     "data": {
      "image/png": "[encoded data removed]",
      "text/plain": [
       "<Figure size 864x720 with 1 Axes>"
      ]
     },
     "metadata": {
      "needs_background": "light"
     },
     "output_type": "display_data"
    }
   ],
   "source": [
    "print(loan.groupby('Final_Status')['Applied Loan Amount'].mean())\n",
    "plt.figure(figsize=(12,10))\n",
    "loan.groupby('Final_Status')['Applied Loan Amount'].mean().plot.bar()"
   ]
  },
  {
   "cell_type": "markdown",
   "metadata": {},
   "source": [
    "# For more accurate analysis making bins of Applied Loan Amount.\n"
   ]
  },
  {
   "cell_type": "code",
   "execution_count": 37,
   "metadata": {},
   "outputs": [
    {
     "data": {
      "text/plain": [
       "12000000"
      ]
     },
     "execution_count": 37,
     "metadata": {},
     "output_type": "execute_result"
    }
   ],
   "source": [
    "loan['Applied Loan Amount'].max()"
   ]
  },
  {
   "cell_type": "code",
   "execution_count": 38,
   "metadata": {},
   "outputs": [],
   "source": [
    "# making bins for LoanAmount variable\n",
    "bins = [0,20000,50000,70000,1500000]\n",
    "group = ['Low','Average','High','Very High']\n",
    "loan['LoanAmount'] = pd.cut(df['Applied Loan Amount'],bins,labels=group)"
   ]
  },
  {
   "cell_type": "code",
   "execution_count": 41,
   "metadata": {},
   "outputs": [
    {
     "name": "stdout",
     "output_type": "stream",
     "text": [
      "Final_Status  Apvd_Drawdown  Apvd_Pending_Draw  Rejected\n",
      "LoanAmount                                              \n",
      "Low                     314                  4       462\n",
      "Average                 565                  8      1158\n",
      "High                    227                  1       367\n",
      "Very High              4106                 33      4266\n"
     ]
    },
    {
     "data": {
      "image/png": "[encoded data removed]",
      "text/plain": [
       "<Figure size 432x288 with 1 Axes>"
      ]
     },
     "metadata": {
      "needs_background": "light"
     },
     "output_type": "display_data"
    }
   ],
   "source": [
    "print(pd.crosstab(loan['LoanAmount'],loan['Final_Status']))\n",
    "\n",
    "LoanAmount = pd.crosstab(loan['LoanAmount'],loan['Final_Status'])\n",
    "LoanAmount.div(Income_category.sum(1).astype(float), axis=0).plot(kind=\"bar\", stacked=True)\n",
    "plt.xlabel('LoanAmount')\n",
    "P = plt.ylabel('Percentage')"
   ]
  },
  {
   "cell_type": "markdown",
   "metadata": {},
   "source": [
    "## We can see that Average loan amout that is 20000 to 50000 have the most chance of getting approved by the bank."
   ]
  },
  {
   "cell_type": "code",
   "execution_count": 43,
   "metadata": {},
   "outputs": [],
   "source": [
    "# Drooping the bins i have created \n",
    "loan = loan.drop(['LoanAmount','Income_category' ], axis=1)"
   ]
  },
  {
   "cell_type": "code",
   "execution_count": 44,
   "metadata": {},
   "outputs": [
    {
     "data": {
      "text/html": [
       "<div>\n",
       "<style scoped>\n",
       "    .dataframe tbody tr th:only-of-type {\n",
       "        vertical-align: middle;\n",
       "    }\n",
       "\n",
       "    .dataframe tbody tr th {\n",
       "        vertical-align: top;\n",
       "    }\n",
       "\n",
       "    .dataframe thead th {\n",
       "        text-align: right;\n",
       "    }\n",
       "</style>\n",
       "<table border=\"1\" class=\"dataframe\">\n",
       "  <thead>\n",
       "    <tr style=\"text-align: right;\">\n",
       "      <th></th>\n",
       "      <th>ID</th>\n",
       "      <th>Branch Code</th>\n",
       "      <th>Application In-take Date</th>\n",
       "      <th>Applied Loan Amount</th>\n",
       "      <th>Applied Loan Tenor</th>\n",
       "      <th>Loan Purpose</th>\n",
       "      <th>Gender</th>\n",
       "      <th>Age</th>\n",
       "      <th>Marital Status</th>\n",
       "      <th>Education Level</th>\n",
       "      <th>Residential Status</th>\n",
       "      <th>Monthly Housing/Rental</th>\n",
       "      <th>Contract Staff (Y/N)</th>\n",
       "      <th>Employment Type</th>\n",
       "      <th>Nature of Business</th>\n",
       "      <th>Job Position</th>\n",
       "      <th>Monthly Income</th>\n",
       "      <th>Office (Area)</th>\n",
       "      <th>Final_Status</th>\n",
       "      <th>Indicators</th>\n",
       "    </tr>\n",
       "  </thead>\n",
       "  <tbody>\n",
       "    <tr>\n",
       "      <th>0</th>\n",
       "      <td>1</td>\n",
       "      <td>570</td>\n",
       "      <td>2012-04-11</td>\n",
       "      <td>60000</td>\n",
       "      <td>24</td>\n",
       "      <td>Car Purchase</td>\n",
       "      <td>M</td>\n",
       "      <td>22.301</td>\n",
       "      <td>Single</td>\n",
       "      <td>Secondary</td>\n",
       "      <td>Live With Relatives</td>\n",
       "      <td>0.0</td>\n",
       "      <td>N</td>\n",
       "      <td>Fixed Income Earner</td>\n",
       "      <td>Sales</td>\n",
       "      <td>Private</td>\n",
       "      <td>10245.0</td>\n",
       "      <td>2.0</td>\n",
       "      <td>Rejected</td>\n",
       "      <td>0</td>\n",
       "    </tr>\n",
       "    <tr>\n",
       "      <th>1</th>\n",
       "      <td>2</td>\n",
       "      <td>566</td>\n",
       "      <td>2012-04-11</td>\n",
       "      <td>100000</td>\n",
       "      <td>60</td>\n",
       "      <td>Settle Loan / Credit Card O/S</td>\n",
       "      <td>M</td>\n",
       "      <td>33.159</td>\n",
       "      <td>Single</td>\n",
       "      <td>Form 3 or below</td>\n",
       "      <td>Live With Relatives</td>\n",
       "      <td>0.0</td>\n",
       "      <td>N</td>\n",
       "      <td>Fixed Income Earner</td>\n",
       "      <td>Services</td>\n",
       "      <td>Private</td>\n",
       "      <td>10000.0</td>\n",
       "      <td>1.0</td>\n",
       "      <td>Rejected</td>\n",
       "      <td>0</td>\n",
       "    </tr>\n",
       "    <tr>\n",
       "      <th>2</th>\n",
       "      <td>3</td>\n",
       "      <td>546</td>\n",
       "      <td>2012-04-12</td>\n",
       "      <td>50000</td>\n",
       "      <td>24</td>\n",
       "      <td>Personal use</td>\n",
       "      <td>F</td>\n",
       "      <td>28.389</td>\n",
       "      <td>Married</td>\n",
       "      <td>University</td>\n",
       "      <td>Rental</td>\n",
       "      <td>2000.0</td>\n",
       "      <td>N</td>\n",
       "      <td>Fixed Income Earner</td>\n",
       "      <td>Services</td>\n",
       "      <td>Private</td>\n",
       "      <td>9700.0</td>\n",
       "      <td>3.0</td>\n",
       "      <td>Rejected</td>\n",
       "      <td>0</td>\n",
       "    </tr>\n",
       "  </tbody>\n",
       "</table>\n",
       "</div>"
      ],
      "text/plain": [
       "   ID  Branch Code Application In-take Date  Applied Loan Amount  \\\n",
       "0   1          570               2012-04-11                60000   \n",
       "1   2          566               2012-04-11               100000   \n",
       "2   3          546               2012-04-12                50000   \n",
       "\n",
       "   Applied Loan Tenor                   Loan Purpose Gender     Age  \\\n",
       "0                  24                   Car Purchase      M  22.301   \n",
       "1                  60  Settle Loan / Credit Card O/S      M  33.159   \n",
       "2                  24                   Personal use      F  28.389   \n",
       "\n",
       "  Marital Status  Education Level   Residential Status  \\\n",
       "0         Single        Secondary  Live With Relatives   \n",
       "1         Single  Form 3 or below  Live With Relatives   \n",
       "2        Married       University               Rental   \n",
       "\n",
       "   Monthly Housing/Rental Contract Staff (Y/N)      Employment Type  \\\n",
       "0                     0.0                    N  Fixed Income Earner   \n",
       "1                     0.0                    N  Fixed Income Earner   \n",
       "2                  2000.0                    N  Fixed Income Earner   \n",
       "\n",
       "  Nature of Business Job Position  Monthly Income  Office (Area) Final_Status  \\\n",
       "0              Sales      Private         10245.0            2.0     Rejected   \n",
       "1           Services      Private         10000.0            1.0     Rejected   \n",
       "2           Services      Private          9700.0            3.0     Rejected   \n",
       "\n",
       "   Indicators  \n",
       "0           0  \n",
       "1           0  \n",
       "2           0  "
      ]
     },
     "execution_count": 44,
     "metadata": {},
     "output_type": "execute_result"
    }
   ],
   "source": [
    "loan.head(3)"
   ]
  }
 ],
 "metadata": {
  "kernelspec": {
   "display_name": "Python 3",
   "language": "python",
   "name": "python3"
  },
  "language_info": {
   "codemirror_mode": {
    "name": "ipython",
    "version": 3
   },
   "file_extension": ".py",
   "mimetype": "text/x-python",
   "name": "python",
   "nbconvert_exporter": "python",
   "pygments_lexer": "ipython3",
   "version": "3.7.6"
  }
 },
 "nbformat": 4,
 "nbformat_minor": 4
}
